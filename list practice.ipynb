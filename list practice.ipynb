{
 "cells": [
  {
   "cell_type": "code",
   "execution_count": 1,
   "metadata": {},
   "outputs": [
    {
     "name": "stdout",
     "output_type": "stream",
     "text": [
      "['dev', 'him', 'raj', 'nitin', 'nimesh', 'avani', 'dev', 'avani', 'him']\n",
      "['dev', 'him', 'raj', 'nitin', 'nimesh', 'avani']\n"
     ]
    }
   ],
   "source": [
    "list1=[\"dev\",\"him\",\"raj\",\"nitin\",\"nimesh\",\"avani\",\"dev\",\"avani\",\"him\"]\n",
    "print(list1)\n",
    "list2=[]\n",
    "for var in list1:\n",
    "    if(var not in list2):\n",
    "        list2.append(var)\n",
    "print(list2)"
   ]
  },
  {
   "cell_type": "code",
   "execution_count": 19,
   "metadata": {},
   "outputs": [
    {
     "name": "stdout",
     "output_type": "stream",
     "text": [
      "{   'ajay': 'python',\n",
      "    'cd': 'java',\n",
      "    'dev': 'java',\n",
      "    'ls': 'java',\n",
      "    'nimesh': 'C',\n",
      "    'nitin': 'python'}\n",
      "{'C': ['nimesh'], 'java': ['dev', 'cd', 'ls'], 'python': ['ajay', 'nitin']}\n"
     ]
    }
   ],
   "source": [
    "import pprint\n",
    "pp = pprint.PrettyPrinter(indent=4)\n",
    "di={\"dev\":\"java\",\n",
    "   \"cd\":\"java\",\n",
    "   \"ls\":\"java\",\n",
    "   \"ajay\":\"python\",\n",
    "   \"nitin\":\"python\",\n",
    "   \"nimesh\":\"C\"}\n",
    "pp.pprint(di)\n",
    "di2={}\n",
    "for var in di:    \n",
    "    name=[]\n",
    "    language=di.get(var)\n",
    "    if language not in di2:\n",
    "        di2.update({language:[var]})\n",
    "    else:\n",
    "        name=di2.get(language)\n",
    "        name.append(var)\n",
    "        \n",
    "pp.pprint(di2)"
   ]
  },
  {
   "cell_type": "code",
   "execution_count": null,
   "metadata": {},
   "outputs": [],
   "source": []
  },
  {
   "cell_type": "code",
   "execution_count": 20,
   "metadata": {},
   "outputs": [
    {
     "data": {
      "text/plain": [
       "{'dev': 'java',\n",
       " 'cd': 'java',\n",
       " 'ls': 'java',\n",
       " 'ajay': 'python',\n",
       " 'nitin': 'python',\n",
       " 'nimesh': 'C'}"
      ]
     },
     "execution_count": 20,
     "metadata": {},
     "output_type": "execute_result"
    }
   ],
   "source": [
    "di"
   ]
  },
  {
   "cell_type": "code",
   "execution_count": 23,
   "metadata": {},
   "outputs": [],
   "source": [
    "d = {}"
   ]
  },
  {
   "cell_type": "code",
   "execution_count": 27,
   "metadata": {},
   "outputs": [],
   "source": [
    "di = {\n",
    "    'grras':'ajay',\n",
    "    'sachin':'python',\n",
    "    'redhat':'ajay'\n",
    "}"
   ]
  },
  {
   "cell_type": "code",
   "execution_count": 29,
   "metadata": {},
   "outputs": [
    {
     "data": {
      "text/plain": [
       "dict_items([('grras', 'ajay'), ('sachin', 'python'), ('redhat', 'ajay')])"
      ]
     },
     "execution_count": 29,
     "metadata": {},
     "output_type": "execute_result"
    }
   ],
   "source": [
    "di.items()"
   ]
  },
  {
   "cell_type": "code",
   "execution_count": 30,
   "metadata": {
    "scrolled": true
   },
   "outputs": [],
   "source": [
    "for key,value in di.items():\n",
    "    if value in d:\n",
    "        d[value].append(key)\n",
    "    else:\n",
    "        d[value]=[key]"
   ]
  },
  {
   "cell_type": "code",
   "execution_count": 31,
   "metadata": {},
   "outputs": [
    {
     "data": {
      "text/plain": [
       "{'ajay': ['grras', 'redhat'], 'python': ['sachin']}"
      ]
     },
     "execution_count": 31,
     "metadata": {},
     "output_type": "execute_result"
    }
   ],
   "source": [
    "d"
   ]
  },
  {
   "cell_type": "code",
   "execution_count": 26,
   "metadata": {},
   "outputs": [
    {
     "data": {
      "text/plain": [
       "{'dev': 'java',\n",
       " 'cd': 'java',\n",
       " 'ls': 'java',\n",
       " 'ajay': 'python',\n",
       " 'nitin': 'python',\n",
       " 'nimesh': 'C'}"
      ]
     },
     "execution_count": 26,
     "metadata": {},
     "output_type": "execute_result"
    }
   ],
   "source": [
    "di"
   ]
  },
  {
   "cell_type": "code",
   "execution_count": null,
   "metadata": {},
   "outputs": [],
   "source": []
  }
 ],
 "metadata": {
  "kernelspec": {
   "display_name": "Python 3",
   "language": "python",
   "name": "python3"
  },
  "language_info": {
   "codemirror_mode": {
    "name": "ipython",
    "version": 3
   },
   "file_extension": ".py",
   "mimetype": "text/x-python",
   "name": "python",
   "nbconvert_exporter": "python",
   "pygments_lexer": "ipython3",
   "version": "3.7.3"
  }
 },
 "nbformat": 4,
 "nbformat_minor": 2
}
