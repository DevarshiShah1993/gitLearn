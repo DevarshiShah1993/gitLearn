{
 "cells": [
  {
   "cell_type": "code",
   "execution_count": 1,
   "metadata": {},
   "outputs": [],
   "source": [
    "def add(a,b):\n",
    "    return a+b\n"
   ]
  },
  {
   "cell_type": "code",
   "execution_count": 2,
   "metadata": {},
   "outputs": [
    {
     "data": {
      "text/plain": [
       "9"
      ]
     },
     "execution_count": 2,
     "metadata": {},
     "output_type": "execute_result"
    }
   ],
   "source": [
    "add(5,4)"
   ]
  },
  {
   "cell_type": "code",
   "execution_count": 6,
   "metadata": {},
   "outputs": [],
   "source": [
    "def evenOrOdd(num):\n",
    "    if(num % 2 == 0):\n",
    "        print(f\"{num} is even num\")\n",
    "    else:\n",
    "        print(f\"{num} is odd num\")"
   ]
  },
  {
   "cell_type": "code",
   "execution_count": 7,
   "metadata": {},
   "outputs": [
    {
     "name": "stdout",
     "output_type": "stream",
     "text": [
      "5 is odd num\n"
     ]
    }
   ],
   "source": [
    "evenOrOdd(5)"
   ]
  },
  {
   "cell_type": "code",
   "execution_count": 8,
   "metadata": {},
   "outputs": [],
   "source": [
    "def mul(num1,num2):\n",
    "    return num1*num2"
   ]
  },
  {
   "cell_type": "code",
   "execution_count": 10,
   "metadata": {},
   "outputs": [
    {
     "data": {
      "text/plain": [
       "20"
      ]
     },
     "execution_count": 10,
     "metadata": {},
     "output_type": "execute_result"
    }
   ],
   "source": [
    "mul(4,5)"
   ]
  },
  {
   "cell_type": "code",
   "execution_count": 15,
   "metadata": {},
   "outputs": [],
   "source": [
    "def fact(num):\n",
    "    fact=1\n",
    "    for var in  range(1,num):\n",
    "        fact=fact*var\n",
    "    print(fact)\n",
    "    return fact"
   ]
  },
  {
   "cell_type": "code",
   "execution_count": 16,
   "metadata": {},
   "outputs": [
    {
     "name": "stdout",
     "output_type": "stream",
     "text": [
      "24\n"
     ]
    },
    {
     "data": {
      "text/plain": [
       "24"
      ]
     },
     "execution_count": 16,
     "metadata": {},
     "output_type": "execute_result"
    }
   ],
   "source": [
    "fact(5)"
   ]
  },
  {
   "cell_type": "code",
   "execution_count": 17,
   "metadata": {},
   "outputs": [],
   "source": [
    "def graterNum(num1,num2,num3):\n",
    "    if(num1 > num2  and num1 >num3):\n",
    "        print(f\"{num1} is greater one\")\n",
    "    elif(num2 > num1  and num2 >num3):\n",
    "        print(f\"{num2} is greater one\")\n",
    "    elif(num3 > num2  and num3 >num1):\n",
    "        print(f\"{num3} is greater one\")"
   ]
  },
  {
   "cell_type": "code",
   "execution_count": 18,
   "metadata": {},
   "outputs": [
    {
     "name": "stdout",
     "output_type": "stream",
     "text": [
      "20 is greater one\n"
     ]
    }
   ],
   "source": [
    "graterNum(5,20,2)"
   ]
  },
  {
   "cell_type": "code",
   "execution_count": 37,
   "metadata": {},
   "outputs": [],
   "source": [
    "def pelidrome(num1):\n",
    "    num2=1\n",
    "    i=0\n",
    "    num=num1\n",
    "    while(num1 >0):\n",
    "        a=num1 % 10\n",
    "        num2= a +(num2 *10*i)\n",
    "        num1=int(num1/10)\n",
    "        print(num1)\n",
    "        print(num2)\n",
    "        i +=1\n",
    "    \n",
    "    if(num == num2):\n",
    "        print(\"number is pelidrome\")\n",
    "    else:\n",
    "        print(\"number is not pelidrome\")\n",
    "        "
   ]
  },
  {
   "cell_type": "code",
   "execution_count": 38,
   "metadata": {},
   "outputs": [
    {
     "name": "stdout",
     "output_type": "stream",
     "text": [
      "57\n",
      "5\n",
      "5\n",
      "57\n",
      "0\n",
      "1145\n",
      "1145\n",
      "number is not pelidrome\n"
     ]
    }
   ],
   "source": [
    "pelidrome(575)"
   ]
  },
  {
   "cell_type": "code",
   "execution_count": null,
   "metadata": {},
   "outputs": [],
   "source": []
  }
 ],
 "metadata": {
  "kernelspec": {
   "display_name": "Python 3",
   "language": "python",
   "name": "python3"
  },
  "language_info": {
   "codemirror_mode": {
    "name": "ipython",
    "version": 3
   },
   "file_extension": ".py",
   "mimetype": "text/x-python",
   "name": "python",
   "nbconvert_exporter": "python",
   "pygments_lexer": "ipython3",
   "version": "3.7.3"
  }
 },
 "nbformat": 4,
 "nbformat_minor": 2
}
