{
 "cells": [
  {
   "cell_type": "code",
   "execution_count": 1,
   "metadata": {},
   "outputs": [
    {
     "name": "stdout",
     "output_type": "stream",
     "text": [
      "*\n",
      "**\n",
      "***\n",
      "****\n"
     ]
    }
   ],
   "source": [
    "for vr in range(1,5):\n",
    "    print(\"*\"*vr)"
   ]
  },
  {
   "cell_type": "code",
   "execution_count": 10,
   "metadata": {},
   "outputs": [
    {
     "name": "stdout",
     "output_type": "stream",
     "text": [
      "      *\n",
      "     * *\n",
      "    * * *\n",
      "   * * * *\n",
      "  * * * * *\n",
      "   * * * *\n",
      "    * * *\n",
      "     * *\n",
      "      *\n"
     ]
    }
   ],
   "source": [
    "j=1\n",
    "for i in range(5,1,-1):\n",
    "        print(\" \"*i+\" *\"*j)\n",
    "        j += 1\n",
    "for i in range(1,6):\n",
    "        print(\" \"*i+\" *\"*j)\n",
    "        j -= 1"
   ]
  },
  {
   "cell_type": "code",
   "execution_count": 12,
   "metadata": {},
   "outputs": [
    {
     "name": "stdout",
     "output_type": "stream",
     "text": [
      "*\n",
      "**\n",
      "***\n",
      "****\n"
     ]
    }
   ],
   "source": [
    "i=1\n",
    "while i < 5:\n",
    "    print(\"*\"*i)\n",
    "    i +=1"
   ]
  },
  {
   "cell_type": "code",
   "execution_count": 15,
   "metadata": {},
   "outputs": [
    {
     "name": "stdout",
     "output_type": "stream",
     "text": [
      "      *\n",
      "     * *\n",
      "    * * *\n",
      "   * * * *\n",
      "  * * * * *\n",
      " * * * * * *\n",
      "  * * * * *\n",
      "   * * * *\n",
      "    * * *\n",
      "     * *\n",
      "      *\n"
     ]
    }
   ],
   "source": [
    "i=5\n",
    "j=1\n",
    "while i>0:\n",
    "         print(\" \"*i+\" *\"*j)\n",
    "         i -=1\n",
    "         j +=1\n",
    "while j>0:\n",
    "         print(\" \"*i+\" *\"*j)\n",
    "         i +=1\n",
    "         j -=1\n",
    "        \n",
    "    "
   ]
  },
  {
   "cell_type": "code",
   "execution_count": 19,
   "metadata": {},
   "outputs": [
    {
     "name": "stdout",
     "output_type": "stream",
     "text": [
      "*\n",
      "**\n",
      "***\n",
      "****\n",
      "***\n",
      "**\n",
      "*\n",
      "\n"
     ]
    }
   ],
   "source": [
    "i=1\n",
    "while i < 5:\n",
    "    print(\"*\"*i)\n",
    "    i +=1\n",
    "i -= 1\n",
    "while i>0:\n",
    "    i -=1\n",
    "    print(\"*\"*i)"
   ]
  },
  {
   "cell_type": "code",
   "execution_count": 38,
   "metadata": {},
   "outputs": [
    {
     "name": "stdout",
     "output_type": "stream",
     "text": [
      "**********\n",
      "****  ****\n",
      "***    ***\n",
      "**      **\n",
      "*        *\n",
      "*        *\n",
      "**      **\n",
      "***    ***\n",
      "****  ****\n",
      "**********\n"
     ]
    }
   ],
   "source": [
    "i=int(input(\"give number of star reqirein first line\"))\n",
    "i=5\n",
    "j=0\n",
    "while i>0:        \n",
    "    print(\"*\"*i+\" \"*j+\"*\"*i)\n",
    "    i -=1\n",
    "    j +=2\n",
    "i +=1\n",
    "j -=2\n",
    "while i<6:        \n",
    "    print(\"*\"*i+\" \"*j+\"*\"*i)\n",
    "    i +=1\n",
    "    j -=2\n",
    "\n"
   ]
  },
  {
   "cell_type": "code",
   "execution_count": 40,
   "metadata": {},
   "outputs": [
    {
     "data": {
      "text/plain": [
       "90"
      ]
     },
     "execution_count": 40,
     "metadata": {},
     "output_type": "execute_result"
    }
   ],
   "source": [
    "ord('Z')"
   ]
  },
  {
   "cell_type": "code",
   "execution_count": 41,
   "metadata": {},
   "outputs": [
    {
     "data": {
      "text/plain": [
       "'Z'"
      ]
     },
     "execution_count": 41,
     "metadata": {},
     "output_type": "execute_result"
    }
   ],
   "source": [
    "chr(90)"
   ]
  },
  {
   "cell_type": "code",
   "execution_count": 47,
   "metadata": {},
   "outputs": [
    {
     "name": "stdout",
     "output_type": "stream",
     "text": [
      "                         A \n",
      "                        B B \n",
      "                       C C C \n",
      "                      D D D D \n",
      "                     E E E E E \n",
      "                    F F F F F F \n",
      "                   G G G G G G G \n",
      "                  H H H H H H H H \n",
      "                 I I I I I I I I I \n",
      "                J J J J J J J J J J \n",
      "               K K K K K K K K K K K \n",
      "              L L L L L L L L L L L L \n",
      "             M M M M M M M M M M M M M \n",
      "            N N N N N N N N N N N N N N \n",
      "           O O O O O O O O O O O O O O O \n",
      "          P P P P P P P P P P P P P P P P \n",
      "         Q Q Q Q Q Q Q Q Q Q Q Q Q Q Q Q Q \n",
      "        R R R R R R R R R R R R R R R R R R \n",
      "       S S S S S S S S S S S S S S S S S S S \n",
      "      T T T T T T T T T T T T T T T T T T T T \n",
      "     U U U U U U U U U U U U U U U U U U U U U \n",
      "    V V V V V V V V V V V V V V V V V V V V V V \n",
      "   W W W W W W W W W W W W W W W W W W W W W W W \n",
      "  X X X X X X X X X X X X X X X X X X X X X X X X \n",
      " Y Y Y Y Y Y Y Y Y Y Y Y Y Y Y Y Y Y Y Y Y Y Y Y Y \n"
     ]
    }
   ],
   "source": [
    "j=1\n",
    "for i in range(65,90):\n",
    "    print(\" \"*(90-i)+f'{chr(i)} '*j)\n",
    "    j+=1"
   ]
  },
  {
   "cell_type": "code",
   "execution_count": 50,
   "metadata": {},
   "outputs": [
    {
     "name": "stdout",
     "output_type": "stream",
     "text": [
      "give number to make table5\n",
      " 5 * 1 = 5\n",
      " 5 * 2 = 10\n",
      " 5 * 3 = 15\n",
      " 5 * 4 = 20\n",
      " 5 * 5 = 25\n",
      " 5 * 6 = 30\n",
      " 5 * 7 = 35\n",
      " 5 * 8 = 40\n",
      " 5 * 9 = 45\n",
      " 5 * 10 = 50\n"
     ]
    }
   ],
   "source": [
    "num=int(input(\"give number to make table\"))\n",
    "for i in range(1,11):\n",
    "    print(f\" {num} * {i} = {num*i}\")\n",
    "    "
   ]
  },
  {
   "cell_type": "code",
   "execution_count": 56,
   "metadata": {},
   "outputs": [
    {
     "name": "stdout",
     "output_type": "stream",
     "text": [
      "enter number to find factorial:6\n",
      "720\n"
     ]
    }
   ],
   "source": [
    "num=int(input(\"enter number to find factorial:\"))\n",
    "fact=1\n",
    "while num>1:\n",
    "    fact=fact*num\n",
    "    num -=1\n",
    "else:\n",
    "    print(fact)"
   ]
  },
  {
   "cell_type": "code",
   "execution_count": 63,
   "metadata": {},
   "outputs": [
    {
     "name": "stdout",
     "output_type": "stream",
     "text": [
      "enter a count of number for fibbonaci9\n",
      "1\n",
      "1\n",
      "2\n",
      "3\n",
      "5\n",
      "8\n",
      "13\n",
      "21\n",
      "34\n"
     ]
    }
   ],
   "source": [
    "i=1\n",
    "j=1\n",
    "num=int(input(\"enter a count of number for fibbonaci\"))\n",
    "if(num > 2):\n",
    "    print(f\"{i}\\n{j}\",)\n",
    "    while(num>2):\n",
    "        temp=i+j\n",
    "        print(f\"{temp}\")\n",
    "        i = j\n",
    "        j = temp\n",
    "        num -=1\n",
    "else:\n",
    "    print(\"count should be more then 2\")"
   ]
  },
  {
   "cell_type": "code",
   "execution_count": 65,
   "metadata": {},
   "outputs": [
    {
     "name": "stdout",
     "output_type": "stream",
     "text": [
      "1505\n",
      "1540\n",
      "1575\n",
      "1610\n",
      "1645\n",
      "1680\n",
      "1715\n",
      "1750\n",
      "1785\n",
      "1820\n",
      "1855\n",
      "1890\n",
      "1925\n",
      "1960\n",
      "1995\n",
      "2030\n",
      "2065\n",
      "2100\n",
      "2135\n",
      "2170\n",
      "2205\n",
      "2240\n",
      "2275\n",
      "2310\n",
      "2345\n",
      "2380\n",
      "2415\n",
      "2450\n",
      "2485\n",
      "2520\n",
      "2555\n",
      "2590\n",
      "2625\n",
      "2660\n",
      "2695\n"
     ]
    }
   ],
   "source": [
    "for num in range (1500,2701):\n",
    "    if(num % 5 == 0 and num % 7 == 0):\n",
    "        print(num)"
   ]
  },
  {
   "cell_type": "code",
   "execution_count": 10,
   "metadata": {},
   "outputs": [
    {
     "name": "stdout",
     "output_type": "stream",
     "text": [
      "[3, 5, 7, 11, 13, 17, 19, 23, 29, 31, 37, 41, 43, 47, 53, 59, 61, 67, 71, 73, 79, 83, 89, 97]\n"
     ]
    }
   ],
   "source": [
    "prime=[]\n",
    "for var in range(3,100):\n",
    "    count=0\n",
    "    for num in range(2,var+1):\n",
    "        if(var % num ==0):\n",
    "            count+=1\n",
    "    if(count < 2):\n",
    "        prime.append(var)\n",
    "print(prime)"
   ]
  },
  {
   "cell_type": "code",
   "execution_count": null,
   "metadata": {},
   "outputs": [],
   "source": []
  }
 ],
 "metadata": {
  "kernelspec": {
   "display_name": "Python 3",
   "language": "python",
   "name": "python3"
  },
  "language_info": {
   "codemirror_mode": {
    "name": "ipython",
    "version": 3
   },
   "file_extension": ".py",
   "mimetype": "text/x-python",
   "name": "python",
   "nbconvert_exporter": "python",
   "pygments_lexer": "ipython3",
   "version": "3.7.3"
  }
 },
 "nbformat": 4,
 "nbformat_minor": 2
}
