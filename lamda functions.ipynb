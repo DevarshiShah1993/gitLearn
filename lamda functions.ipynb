{
 "cells": [
  {
   "cell_type": "code",
   "execution_count": 1,
   "metadata": {},
   "outputs": [],
   "source": [
    "add=lambda x,y : x+y"
   ]
  },
  {
   "cell_type": "code",
   "execution_count": 2,
   "metadata": {},
   "outputs": [
    {
     "data": {
      "text/plain": [
       "13"
      ]
     },
     "execution_count": 2,
     "metadata": {},
     "output_type": "execute_result"
    }
   ],
   "source": [
    "add(11,2)"
   ]
  },
  {
   "cell_type": "code",
   "execution_count": 5,
   "metadata": {},
   "outputs": [],
   "source": [
    "oddEven =lambda x: (x,'is even') if(x % 2 == 0) else (x,'is odd')"
   ]
  },
  {
   "cell_type": "code",
   "execution_count": 6,
   "metadata": {},
   "outputs": [
    {
     "data": {
      "text/plain": [
       "(3, 'is odd')"
      ]
     },
     "execution_count": 6,
     "metadata": {},
     "output_type": "execute_result"
    }
   ],
   "source": [
    "oddEven(3)"
   ]
  },
  {
   "cell_type": "code",
   "execution_count": 9,
   "metadata": {},
   "outputs": [],
   "source": [
    "greater = lambda x,y,z:(x,'is greater') if(x>=y and x>=z) else((y,' is greter') if (y>=x and y>=z) else (z,'is greter'))"
   ]
  },
  {
   "cell_type": "code",
   "execution_count": 10,
   "metadata": {},
   "outputs": [
    {
     "data": {
      "text/plain": [
       "(8, 'is greter')"
      ]
     },
     "execution_count": 10,
     "metadata": {},
     "output_type": "execute_result"
    }
   ],
   "source": [
    "greater(4,6,8)"
   ]
  },
  {
   "cell_type": "code",
   "execution_count": 11,
   "metadata": {},
   "outputs": [],
   "source": [
    "import random\n"
   ]
  },
  {
   "cell_type": "code",
   "execution_count": 12,
   "metadata": {},
   "outputs": [
    {
     "name": "stdout",
     "output_type": "stream",
     "text": [
      "[368, 151, 88, 315, 423, 266, 407, 314, 468, 468, 481, 39, 327, 30, 442, 484, 495, 485, 486, 402, 108, 159, 129, 35, 155, 120, 413, 400, 403, 332, 53, 412, 207, 85, 224, 55, 293, 90, 393, 238, 107, 388, 220, 153, 301, 127, 18, 446, 256, 233, 94, 362, 222, 187, 65, 31, 443, 413, 480, 424, 368, 92, 108, 22, 7, 404, 209, 17, 479, 332, 224, 103, 122, 248, 240, 492, 472, 203, 401, 177, 459, 122, 431, 386, 132, 295, 115, 1, 312, 360, 138, 39, 125, 293, 378, 188, 407, 127, 44, 7, 99, 152, 277, 254, 255, 434, 462, 391, 498, 32, 6, 125, 163, 224, 462, 414, 270, 428, 332, 476, 25, 28, 352, 421, 476, 339, 329, 103, 119, 171, 139, 401, 210, 137, 443, 68, 132, 429, 388, 386, 294, 325, 109, 439, 120, 219, 342, 238, 227, 191, 47, 448, 231, 125, 238, 443, 241, 100, 166, 346, 421, 356, 104, 252, 197, 140, 142, 88, 128, 7, 21, 72, 468, 2, 140, 399, 23, 178, 449, 311, 341, 222, 354, 356, 312, 294, 388, 126, 380, 78, 319, 226, 214, 357, 265, 354, 397, 483, 137, 454, 41, 159, 53, 133, 113, 450, 375, 280, 120, 7, 74, 489, 321, 475, 442, 398, 497, 89, 15, 166, 43, 285, 393, 145, 491, 420, 340, 331, 58, 272, 236, 438, 162, 466, 29, 10, 299, 202, 64, 350, 339, 80, 337, 181, 322, 377, 294, 420, 65, 381, 309, 347, 474, 458, 440, 243, 168, 326, 58, 308, 316, 495, 19, 262, 64, 386, 366, 416, 377, 61, 262, 131, 76, 240, 191, 438, 288, 350, 171, 160, 104, 219, 432, 201, 368, 239, 32, 225, 226, 483, 286, 36, 389, 23, 468, 307, 464, 15, 181, 403, 280, 478, 494, 211, 226, 221, 12, 323, 327, 323, 72, 236, 424, 466, 346, 221, 45, 29, 12, 373, 459, 222, 340, 218, 407, 135, 23, 330, 170, 121, 343, 174, 480, 37, 434, 122, 5, 444, 116, 329, 193, 221, 128, 161, 280, 467, 181, 455, 276, 87, 434, 306, 101, 165, 19, 202, 199, 131, 385, 71, 452, 68, 92, 117, 427, 481, 333, 208, 481, 162, 193, 331, 125, 38, 470, 321, 431, 147, 92, 116, 141, 342, 189, 223, 331, 8, 118, 347, 45, 130, 322, 156, 9, 323, 315, 383, 497, 104, 207, 374, 332, 49, 185, 488, 408, 342, 433, 170, 149, 374, 149, 265, 339, 436, 10, 96, 330, 443, 213, 323, 368, 145, 175, 314, 257, 404, 253, 79, 186, 272, 148, 187, 354, 397, 82, 69, 48, 88, 84, 238, 227, 168, 425, 178, 161, 56, 494, 298, 194, 392, 383, 163, 448, 481, 202, 279, 260, 308, 163, 94, 295, 204, 262, 130, 5, 316, 383, 36, 334, 395, 473, 498, 290, 88, 166, 214, 357, 153, 180, 48, 34, 278, 58, 47, 239, 284, 403, 331, 336, 189, 167, 67, 427, 384, 100, 175, 205, 307, 43, 483]\n"
     ]
    }
   ],
   "source": [
    "rand=[random.randint(1,500) for var in range(500)]\n",
    "print(rand)"
   ]
  },
  {
   "cell_type": "code",
   "execution_count": 15,
   "metadata": {},
   "outputs": [
    {
     "ename": "TypeError",
     "evalue": "filter expected 2 arguments, got 1",
     "output_type": "error",
     "traceback": [
      "\u001b[1;31m---------------------------------------------------------------------------\u001b[0m",
      "\u001b[1;31mTypeError\u001b[0m                                 Traceback (most recent call last)",
      "\u001b[1;32m<ipython-input-15-63f0465b35b1>\u001b[0m in \u001b[0;36m<module>\u001b[1;34m\u001b[0m\n\u001b[1;32m----> 1\u001b[1;33m \u001b[0meven\u001b[0m\u001b[1;33m=\u001b[0m\u001b[0mlist\u001b[0m\u001b[1;33m(\u001b[0m\u001b[0mfilter\u001b[0m\u001b[1;33m(\u001b[0m\u001b[1;32mlambda\u001b[0m \u001b[0mx\u001b[0m\u001b[1;33m:\u001b[0m\u001b[1;33m(\u001b[0m\u001b[0mx\u001b[0m \u001b[1;33m%\u001b[0m \u001b[1;36m2\u001b[0m\u001b[1;33m==\u001b[0m\u001b[1;36m0\u001b[0m\u001b[1;33m)\u001b[0m\u001b[1;33m)\u001b[0m\u001b[1;33m,\u001b[0m\u001b[0mrand\u001b[0m\u001b[1;33m)\u001b[0m\u001b[1;33m\u001b[0m\u001b[1;33m\u001b[0m\u001b[0m\n\u001b[0m",
      "\u001b[1;31mTypeError\u001b[0m: filter expected 2 arguments, got 1"
     ]
    }
   ],
   "source": [
    "even=list(filter(lambda x:(x % 2==0)),rand)"
   ]
  },
  {
   "cell_type": "code",
   "execution_count": null,
   "metadata": {},
   "outputs": [],
   "source": []
  }
 ],
 "metadata": {
  "kernelspec": {
   "display_name": "Python 3",
   "language": "python",
   "name": "python3"
  },
  "language_info": {
   "codemirror_mode": {
    "name": "ipython",
    "version": 3
   },
   "file_extension": ".py",
   "mimetype": "text/x-python",
   "name": "python",
   "nbconvert_exporter": "python",
   "pygments_lexer": "ipython3",
   "version": "3.7.3"
  }
 },
 "nbformat": 4,
 "nbformat_minor": 2
}
