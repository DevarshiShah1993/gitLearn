{
 "cells": [
  {
   "cell_type": "code",
   "execution_count": 2,
   "metadata": {},
   "outputs": [
    {
     "name": "stdout",
     "output_type": "stream",
     "text": [
      "5 * 1 = 5\n",
      "5 * 2 = 10\n",
      "5 * 3 = 15\n",
      "5 * 4 = 20\n",
      "5 * 5 = 25\n",
      "5 * 6 = 30\n",
      "5 * 7 = 35\n",
      "5 * 8 = 40\n",
      "5 * 9 = 45\n",
      "5 * 10 = 50\n"
     ]
    }
   ],
   "source": [
    "for vr in range(1,11):\n",
    "    print(f\"5 * {vr} = {vr*5}\")"
   ]
  },
  {
   "cell_type": "code",
   "execution_count": null,
   "metadata": {},
   "outputs": [],
   "source": [
    "num= int(input(\"give a number:\"))\n",
    "vr = 1\n",
    "while vr <= 10 :\n",
    "    print(f\"5 * {vr} = {vr*num}\")\n",
    "    vr += 1\n",
    "else :\n",
    "    print(\"table completed\")"
   ]
  },
  {
   "cell_type": "code",
   "execution_count": 3,
   "metadata": {},
   "outputs": [
    {
     "name": "stdout",
     "output_type": "stream",
     "text": [
      "hi\n",
      "give a number for squre5\n",
      "square of number is 25\n",
      "do you want to continue Y/N :7\n",
      "good bye\n"
     ]
    }
   ],
   "source": [
    "print(\"hi\")\n",
    "while True:\n",
    "    num = input(\"give a number for squre\")\n",
    "    num.isdigit\n",
    "    \n",
    "    print(f\"square of number is {num*num}\")\n",
    "    var= input(\"do you want to continue Y/N :\")\n",
    "    if(var == 'Y' or var =='y'):\n",
    "         continue\n",
    "    else:\n",
    "        print(\"good bye\")\n",
    "        break"
   ]
  },
  {
   "cell_type": "code",
   "execution_count": 1,
   "metadata": {},
   "outputs": [
    {
     "name": "stdout",
     "output_type": "stream",
     "text": [
      "<class 'str'>\n"
     ]
    }
   ],
   "source": [
    "print(type('a'))"
   ]
  },
  {
   "cell_type": "code",
   "execution_count": null,
   "metadata": {},
   "outputs": [],
   "source": [
    "year= int(input(\"enter a year::\"))\n",
    "if(year % 4 == 0 and year % 40 \n"
   ]
  }
 ],
 "metadata": {
  "kernelspec": {
   "display_name": "Python 3",
   "language": "python",
   "name": "python3"
  },
  "language_info": {
   "codemirror_mode": {
    "name": "ipython",
    "version": 3
   },
   "file_extension": ".py",
   "mimetype": "text/x-python",
   "name": "python",
   "nbconvert_exporter": "python",
   "pygments_lexer": "ipython3",
   "version": "3.7.3"
  }
 },
 "nbformat": 4,
 "nbformat_minor": 2
}
